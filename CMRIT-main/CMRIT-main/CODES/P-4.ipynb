{
 "cells": [
  {
   "cell_type": "markdown",
   "metadata": {},
   "source": [
    "# P4.Implement a python program to demonstrate \n",
    "## 1) Importing Datasets \n",
    "## 2) Cleaning the Data \n",
    "## 3) Data frame manipulation using Numpy"
   ]
  },
  {
   "cell_type": "markdown",
   "metadata": {},
   "source": [
    "#### 1) Importing Datasets "
   ]
  },
  {
   "cell_type": "code",
   "execution_count": 12,
   "metadata": {},
   "outputs": [
    {
     "name": "stdout",
     "output_type": "stream",
     "text": [
      "First 5 rows:\n",
      "   Price   Age       KM FuelType    HP  MetColor  Automatic    CC  Doors  \\\n",
      "0  13500  23.0  46986.0   Diesel  90.0       1.0          0  2000  three   \n",
      "1  13750  23.0  72937.0   Diesel  90.0       1.0          0  2000      3   \n",
      "2  13950  24.0  41711.0   Diesel  90.0       NaN          0  2000      3   \n",
      "3  14950  26.0  48000.0   Diesel  90.0       0.0          0  2000      3   \n",
      "4  13750  30.0  38500.0   Diesel  90.0       0.0          0  2000      3   \n",
      "\n",
      "   Weight  \n",
      "0    1165  \n",
      "1    1165  \n",
      "2    1165  \n",
      "3    1165  \n",
      "4    1170  \n",
      "\n",
      "Last 3 rows:\n",
      "      Price   Age       KM FuelType     HP  MetColor  Automatic    CC Doors  \\\n",
      "1433   8500   NaN  17016.0   Petrol   86.0       0.0          0  1300     3   \n",
      "1434   7250  70.0      NaN      NaN   86.0       1.0          0  1300     3   \n",
      "1435   6950  76.0      1.0   Petrol  110.0       0.0          0  1600     5   \n",
      "\n",
      "      Weight  \n",
      "1433    1015  \n",
      "1434    1015  \n",
      "1435    1114  \n",
      "\n",
      "Index:\n",
      "Index([   0,    1,    2,    3,    4,    5,    6,    7,    8,    9,\n",
      "       ...\n",
      "       1426, 1427, 1428, 1429, 1430, 1431, 1432, 1433, 1434, 1435],\n",
      "      dtype='int64', length=1436)\n",
      "\n",
      "Columns:\n",
      "Index(['Price', 'Age', 'KM', 'FuelType', 'HP', 'MetColor', 'Automatic', 'CC',\n",
      "       'Doors', 'Weight'],\n",
      "      dtype='object')\n",
      "\n",
      "Shape:\n",
      "(1436, 10)\n"
     ]
    }
   ],
   "source": [
    "import pandas as pd\n",
    "\n",
    "# Read the CSV file and specify index col and na_values parameters\n",
    "cars_data = pd.read_csv(\"Toyota-2.csv\", index_col=0, na_values=[\"??\", \"????\"])\n",
    "\n",
    "# Display the first 5 rows of the DataFrame\n",
    "print(\"First 5 rows:\")\n",
    "print(cars_data.head())\n",
    "\n",
    "# Display the last 3 rows of the DataFrame\n",
    "print(\"\\nLast 3 rows:\")\n",
    "print(cars_data.tail(3))\n",
    "\n",
    "# Display the index of the DataFrame\n",
    "print(\"\\nIndex:\")\n",
    "print(cars_data.index)\n",
    "\n",
    "# Display the columns of the DataFrame\n",
    "print(\"\\nColumns:\")\n",
    "print(cars_data.columns)\n",
    "\n",
    "# Display the shape of the DataFrame (number of rows and columns)\n",
    "print(\"\\nShape:\")\n",
    "print(cars_data.shape)\n",
    "\n"
   ]
  },
  {
   "cell_type": "markdown",
   "metadata": {},
   "source": [
    "#### 2) Cleaning the Data "
   ]
  },
  {
   "cell_type": "code",
   "execution_count": 15,
   "metadata": {},
   "outputs": [
    {
     "name": "stdout",
     "output_type": "stream",
     "text": [
      "\n",
      "Shape after dropping columns:\n",
      "(1436, 8)\n",
      "\n",
      "Sum of null values:\n",
      " Price          0\n",
      "Age          100\n",
      "KM            15\n",
      "FuelType     100\n",
      "HP             6\n",
      "MetColor     150\n",
      "Automatic      0\n",
      "CC             0\n",
      "dtype: int64\n",
      "Missing values :\n",
      "       Price   Age       KM FuelType    HP  MetColor  Automatic    CC\n",
      "2     13950  24.0  41711.0   Diesel  90.0       NaN          0  2000\n",
      "6     16900  27.0      NaN   Diesel   NaN       NaN          0  2000\n",
      "7     18600  30.0  75889.0      NaN  90.0       1.0          0  2000\n",
      "9     12950  23.0  71138.0   Diesel   NaN       NaN          0  1900\n",
      "15    22000  28.0  18739.0   Petrol   NaN       0.0          0  1800\n",
      "...     ...   ...      ...      ...   ...       ...        ...   ...\n",
      "1428   8450  72.0      NaN   Petrol  86.0       NaN          0  1300\n",
      "1431   7500   NaN  20544.0   Petrol  86.0       1.0          0  1300\n",
      "1432  10845  72.0      NaN   Petrol  86.0       0.0          0  1300\n",
      "1433   8500   NaN  17016.0   Petrol  86.0       0.0          0  1300\n",
      "1434   7250  70.0      NaN      NaN  86.0       1.0          0  1300\n",
      "\n",
      "[340 rows x 8 columns]\n"
     ]
    }
   ],
   "source": [
    "# Cleaning the data - Drop features that are not required\n",
    "cars_data2 = cars_data.copy()\n",
    "cars_data2 = cars_data2.drop(['Doors', 'Weight'], axis=1)\n",
    "\n",
    "# Display the shape of the modified DataFrame\n",
    "print(\"\\nShape after dropping columns:\")\n",
    "print(cars_data2.shape)\n",
    "\n",
    "# Dealing with missing values\n",
    "\n",
    "# Identifying missing values (NaN)\n",
    "sum_na = cars_data2.isna().sum()\n",
    "print(\"\\nSum of null values:\\n\", sum_na)\n",
    "\n",
    "missing=cars_data2[cars_data2.isnull().any(axis=1)]\n",
    "print(\"Missing values :\\n\",missing)"
   ]
  },
  {
   "cell_type": "markdown",
   "metadata": {},
   "source": [
    "#### 3) Data frame manipulation using Numpy"
   ]
  },
  {
   "cell_type": "code",
   "execution_count": 19,
   "metadata": {},
   "outputs": [
    {
     "name": "stdout",
     "output_type": "stream",
     "text": [
      "0    1.0\n",
      "Name: MetColor, dtype: float64\n"
     ]
    }
   ],
   "source": [
    "# Calculating the mean value of the 'Age' variable\n",
    "cars_data2['Age'].mean()\n",
    "cars_data2['Age'].median()\n",
    "cars_data2['HP'].fillna(cars_data2['HP'].mean(), inplace=True)\n",
    "\n",
    "# getting the value counts of \"Fuel Type\"\n",
    "fuel_type_counts = cars_data2['FuelType'].value_counts()\n",
    "\n",
    "# filling missing values in \"Fuel Type\" column with the mode value\n",
    "cars_data2['FuelType'].fillna(fuel_type_counts.index[0], inplace=True)\n",
    "\n",
    "# printing the mode value of \"MetColor\" column\n",
    "print(cars_data2['MetColor'].mode())"
   ]
  }
 ],
 "metadata": {
  "kernelspec": {
   "display_name": "Python 3",
   "language": "python",
   "name": "python3"
  },
  "language_info": {
   "codemirror_mode": {
    "name": "ipython",
    "version": 3
   },
   "file_extension": ".py",
   "mimetype": "text/x-python",
   "name": "python",
   "nbconvert_exporter": "python",
   "pygments_lexer": "ipython3",
   "version": "3.8.5"
  }
 },
 "nbformat": 4,
 "nbformat_minor": 4
}
