{
 "cells": [
  {
   "cell_type": "code",
   "execution_count": 1,
   "id": "8b0fa540",
   "metadata": {},
   "outputs": [
    {
     "name": "stdout",
     "output_type": "stream",
     "text": [
      "Printing Array\n",
      "\n",
      "[[12  4  5]\n",
      " [23 45 66]\n",
      " [45 34 23]] \n",
      "\n",
      "Printing NumPy array Attributes\n",
      "1. Array Shape is: (3, 3)\n",
      "2. Array dimensions are 2\n",
      "3. Datatype of array is int32\n",
      "4. Length of each element of array in bytes is 4\n",
      "5. Number of elements in array are 9\n",
      "\n",
      "One-dimensional array\n",
      " [5 0 3 3 7 9]\n",
      "Two-dimensional array\n",
      " [[3 5 2 4]\n",
      " [7 6 8 8]\n",
      " [1 6 7 7]]\n",
      "Three-dimensional array\n",
      " [[[8 1 5 9 8]\n",
      "  [9 4 3 0 3]\n",
      "  [5 0 2 3 8]\n",
      "  [1 3 3 3 7]]\n",
      "\n",
      " [[0 1 9 9 0]\n",
      "  [4 7 3 2 7]\n",
      "  [2 0 0 4 5]\n",
      "  [5 6 8 4 1]]\n",
      "\n",
      " [[4 9 8 1 1]\n",
      "  [7 9 9 3 6]\n",
      "  [7 2 0 3 5]\n",
      "  [9 4 4 6 4]]]\n"
     ]
    }
   ],
   "source": [
    "import numpy as np\n",
    "\n",
    "# Creating a 2D NumPy array\n",
    "a = np.array([[12, 4, 5], [23, 45, 66], [45, 34, 23]])\n",
    "\n",
    "# Printing array\n",
    "print(\"Printing Array\\n\")\n",
    "print(a, \"\\n\")\n",
    "\n",
    "# Printing NumPy array attributes\n",
    "print(\"Printing NumPy array Attributes\")\n",
    "print(\"1. Array Shape is:\", a.shape)\n",
    "print(\"2. Array dimensions are\", a.ndim)\n",
    "print(\"3. Datatype of array is\", a.dtype)\n",
    "print(\"4. Length of each element of array in bytes is\", a.itemsize)\n",
    "print(\"5. Number of elements in array are\", a.size)\n",
    "\n",
    "# Seed with a set value to ensure the same random arrays are generated every time\n",
    "np.random.seed(0)\n",
    "\n",
    "# Generating random arrays\n",
    "x1 = np.random.randint(10, size=6)  # One-dimensional array\n",
    "x2 = np.random.randint(10, size=(3, 4))  # Two-dimensional array\n",
    "x3 = np.random.randint(10, size=(3, 4, 5))  # Three-dimensional array\n",
    "\n",
    "# Printing random arrays\n",
    "print(\"\\nOne-dimensional array\\n\", x1)\n",
    "print(\"Two-dimensional array\\n\", x2)\n",
    "print(\"Three-dimensional array\\n\", x3)"
   ]
  }
 ],
 "metadata": {
  "kernelspec": {
   "display_name": "Python 3 (ipykernel)",
   "language": "python",
   "name": "python3"
  },
  "language_info": {
   "codemirror_mode": {
    "name": "ipython",
    "version": 3
   },
   "file_extension": ".py",
   "mimetype": "text/x-python",
   "name": "python",
   "nbconvert_exporter": "python",
   "pygments_lexer": "ipython3",
   "version": "3.11.5"
  }
 },
 "nbformat": 4,
 "nbformat_minor": 5
}
